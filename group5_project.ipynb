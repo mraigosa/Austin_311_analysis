{
 "cells": [
  {
   "cell_type": "code",
   "execution_count": 1,
   "metadata": {
    "collapsed": true
   },
   "outputs": [],
   "source": [
    "import pandas as pd\n",
    "import numpy as np\n",
    "import matplotlib.pyplot as plt\n",
    "import os\n",
    "import csv"
   ]
  },
  {
   "cell_type": "code",
   "execution_count": 2,
   "metadata": {},
   "outputs": [
    {
     "name": "stderr",
     "output_type": "stream",
     "text": [
      "C:\\Users\\Administrator\\AppData\\Local\\conda\\conda\\envs\\py36\\lib\\site-packages\\IPython\\core\\interactiveshell.py:2698: DtypeWarning: Columns (17) have mixed types. Specify dtype option on import or set low_memory=False.\n",
      "  interactivity=interactivity, compiler=compiler, result=result)\n"
     ]
    }
   ],
   "source": [
    "austin_df = pd.read_csv('austin_311_service_requests.csv')\n",
    "#austin_df.head()"
   ]
  },
  {
   "cell_type": "code",
   "execution_count": 3,
   "metadata": {},
   "outputs": [],
   "source": [
    "austin_df = austin_df[[\"city\", \"incident_zip\", \"created_date\", \"owning_department\", \"complaint_description\", \"complaint_type\"]]\n",
    "#austin_df.head()"
   ]
  },
  {
   "cell_type": "code",
   "execution_count": 4,
   "metadata": {},
   "outputs": [
    {
     "data": {
      "text/plain": [
       "463540"
      ]
     },
     "execution_count": 4,
     "metadata": {},
     "output_type": "execute_result"
    }
   ],
   "source": [
    "len(austin_df.index)"
   ]
  },
  {
   "cell_type": "code",
   "execution_count": 5,
   "metadata": {},
   "outputs": [],
   "source": [
    "austin_df.replace('', np.nan, inplace=True)\n",
    "#austin_df.head()"
   ]
  },
  {
   "cell_type": "code",
   "execution_count": 6,
   "metadata": {},
   "outputs": [],
   "source": [
    "#austin_df.count()"
   ]
  },
  {
   "cell_type": "code",
   "execution_count": 7,
   "metadata": {},
   "outputs": [],
   "source": [
    "cleanaustin_df = austin_df.dropna(how=\"any\")\n",
    "#cleanaustin_df.count()"
   ]
  },
  {
   "cell_type": "code",
   "execution_count": 8,
   "metadata": {},
   "outputs": [],
   "source": [
    "#cleanaustin_df.head()"
   ]
  },
  {
   "cell_type": "code",
   "execution_count": 9,
   "metadata": {},
   "outputs": [],
   "source": [
    "#cleanaustin_df['city'].value_counts()"
   ]
  },
  {
   "cell_type": "code",
   "execution_count": 10,
   "metadata": {
    "collapsed": true
   },
   "outputs": [],
   "source": [
    "value_list = ['AUSTIN', 'Austin', 'austin']\n",
    "austin311_df = cleanaustin_df[cleanaustin_df.city.isin(value_list)]"
   ]
  },
  {
   "cell_type": "code",
   "execution_count": 11,
   "metadata": {},
   "outputs": [],
   "source": [
    "#austin311_df['city'].value_counts()"
   ]
  },
  {
   "cell_type": "code",
   "execution_count": 12,
   "metadata": {},
   "outputs": [
    {
     "data": {
      "text/html": [
       "<div>\n",
       "<style>\n",
       "    .dataframe thead tr:only-child th {\n",
       "        text-align: right;\n",
       "    }\n",
       "\n",
       "    .dataframe thead th {\n",
       "        text-align: left;\n",
       "    }\n",
       "\n",
       "    .dataframe tbody tr th {\n",
       "        vertical-align: top;\n",
       "    }\n",
       "</style>\n",
       "<table border=\"1\" class=\"dataframe\">\n",
       "  <thead>\n",
       "    <tr style=\"text-align: right;\">\n",
       "      <th></th>\n",
       "      <th>city</th>\n",
       "      <th>incident_zip</th>\n",
       "      <th>created_date</th>\n",
       "      <th>owning_department</th>\n",
       "      <th>complaint_description</th>\n",
       "      <th>complaint_type</th>\n",
       "    </tr>\n",
       "  </thead>\n",
       "  <tbody>\n",
       "    <tr>\n",
       "      <th>0</th>\n",
       "      <td>AUSTIN</td>\n",
       "      <td>78741.0</td>\n",
       "      <td>2015-01-20 10:41:48</td>\n",
       "      <td>Animal Services Office</td>\n",
       "      <td>Loose Dog</td>\n",
       "      <td>ACLONAG</td>\n",
       "    </tr>\n",
       "    <tr>\n",
       "      <th>1</th>\n",
       "      <td>AUSTIN</td>\n",
       "      <td>78757.0</td>\n",
       "      <td>2016-05-22 10:00:49</td>\n",
       "      <td>Animal Services Office</td>\n",
       "      <td>Loose Dog</td>\n",
       "      <td>ACLONAG</td>\n",
       "    </tr>\n",
       "    <tr>\n",
       "      <th>2</th>\n",
       "      <td>AUSTIN</td>\n",
       "      <td>78744.0</td>\n",
       "      <td>2014-01-06 18:04:00</td>\n",
       "      <td>Animal Services Office</td>\n",
       "      <td>Loose Animal (not dog)</td>\n",
       "      <td>ACLOANIM</td>\n",
       "    </tr>\n",
       "    <tr>\n",
       "      <th>3</th>\n",
       "      <td>AUSTIN</td>\n",
       "      <td>78727.0</td>\n",
       "      <td>2014-11-15 15:43:41</td>\n",
       "      <td>Austin Code Department</td>\n",
       "      <td>Austin Code - Request Code Officer</td>\n",
       "      <td>CODECOMP</td>\n",
       "    </tr>\n",
       "    <tr>\n",
       "      <th>4</th>\n",
       "      <td>AUSTIN</td>\n",
       "      <td>78723.0</td>\n",
       "      <td>2014-07-28 17:33:00</td>\n",
       "      <td>Animal Services Office</td>\n",
       "      <td>Animal - Proper Care</td>\n",
       "      <td>ACPROPER</td>\n",
       "    </tr>\n",
       "  </tbody>\n",
       "</table>\n",
       "</div>"
      ],
      "text/plain": [
       "     city  incident_zip         created_date       owning_department  \\\n",
       "0  AUSTIN       78741.0  2015-01-20 10:41:48  Animal Services Office   \n",
       "1  AUSTIN       78757.0  2016-05-22 10:00:49  Animal Services Office   \n",
       "2  AUSTIN       78744.0  2014-01-06 18:04:00  Animal Services Office   \n",
       "3  AUSTIN       78727.0  2014-11-15 15:43:41  Austin Code Department   \n",
       "4  AUSTIN       78723.0  2014-07-28 17:33:00  Animal Services Office   \n",
       "\n",
       "                complaint_description complaint_type  \n",
       "0                           Loose Dog        ACLONAG  \n",
       "1                           Loose Dog        ACLONAG  \n",
       "2              Loose Animal (not dog)       ACLOANIM  \n",
       "3  Austin Code - Request Code Officer       CODECOMP  \n",
       "4                Animal - Proper Care       ACPROPER  "
      ]
     },
     "execution_count": 12,
     "metadata": {},
     "output_type": "execute_result"
    }
   ],
   "source": [
    "austin311_df.head()"
   ]
  },
  {
   "cell_type": "code",
   "execution_count": 13,
   "metadata": {},
   "outputs": [
    {
     "data": {
      "text/plain": [
       "Animal Services Office                          87678\n",
       "Austin Code Department                          79239\n",
       "Transportation                                  76147\n",
       "Austin Resource Recovery                        64405\n",
       "Public Works                                    43630\n",
       "Austin Energy Department                        18497\n",
       "Parks & Recreation Department                   16361\n",
       "Health & Human Services                         13911\n",
       "Economic Development Department                 12277\n",
       "Austin Water Utility                            11566\n",
       "Watershed Protection                             9252\n",
       "Public Health                                    3886\n",
       "Austin Water                                      827\n",
       "Neighborhood Housing & Community Development      122\n",
       "Austin Fire Department                             66\n",
       "Neighborhood Housing & Community                   51\n",
       "Office of Emergency Management                      1\n",
       "Name: owning_department, dtype: int64"
      ]
     },
     "execution_count": 13,
     "metadata": {},
     "output_type": "execute_result"
    }
   ],
   "source": [
    "austin311_df['owning_department'].value_counts()\n"
   ]
  },
  {
   "cell_type": "code",
   "execution_count": 14,
   "metadata": {},
   "outputs": [
    {
     "data": {
      "text/html": [
       "<div>\n",
       "<style>\n",
       "    .dataframe thead tr:only-child th {\n",
       "        text-align: right;\n",
       "    }\n",
       "\n",
       "    .dataframe thead th {\n",
       "        text-align: left;\n",
       "    }\n",
       "\n",
       "    .dataframe tbody tr th {\n",
       "        vertical-align: top;\n",
       "    }\n",
       "</style>\n",
       "<table border=\"1\" class=\"dataframe\">\n",
       "  <thead>\n",
       "    <tr style=\"text-align: right;\">\n",
       "      <th></th>\n",
       "      <th>city</th>\n",
       "      <th>incident_zip</th>\n",
       "      <th>created_date</th>\n",
       "      <th>owning_department</th>\n",
       "      <th>complaint_description</th>\n",
       "      <th>complaint_type</th>\n",
       "    </tr>\n",
       "  </thead>\n",
       "  <tbody>\n",
       "    <tr>\n",
       "      <th>0</th>\n",
       "      <td>AUSTIN</td>\n",
       "      <td>78741.0</td>\n",
       "      <td>2015-01-20 10:41:48</td>\n",
       "      <td>Animal Services Office</td>\n",
       "      <td>Loose Dog</td>\n",
       "      <td>ACLONAG</td>\n",
       "    </tr>\n",
       "    <tr>\n",
       "      <th>1</th>\n",
       "      <td>AUSTIN</td>\n",
       "      <td>78757.0</td>\n",
       "      <td>2016-05-22 10:00:49</td>\n",
       "      <td>Animal Services Office</td>\n",
       "      <td>Loose Dog</td>\n",
       "      <td>ACLONAG</td>\n",
       "    </tr>\n",
       "    <tr>\n",
       "      <th>2</th>\n",
       "      <td>AUSTIN</td>\n",
       "      <td>78744.0</td>\n",
       "      <td>2014-01-06 18:04:00</td>\n",
       "      <td>Animal Services Office</td>\n",
       "      <td>Loose Animal (not dog)</td>\n",
       "      <td>ACLOANIM</td>\n",
       "    </tr>\n",
       "    <tr>\n",
       "      <th>4</th>\n",
       "      <td>AUSTIN</td>\n",
       "      <td>78723.0</td>\n",
       "      <td>2014-07-28 17:33:00</td>\n",
       "      <td>Animal Services Office</td>\n",
       "      <td>Animal - Proper Care</td>\n",
       "      <td>ACPROPER</td>\n",
       "    </tr>\n",
       "    <tr>\n",
       "      <th>5</th>\n",
       "      <td>AUSTIN</td>\n",
       "      <td>78702.0</td>\n",
       "      <td>2016-06-20 16:44:00</td>\n",
       "      <td>Animal Services Office</td>\n",
       "      <td>Animal - Proper Care</td>\n",
       "      <td>ACPROPER</td>\n",
       "    </tr>\n",
       "  </tbody>\n",
       "</table>\n",
       "</div>"
      ],
      "text/plain": [
       "     city  incident_zip         created_date       owning_department  \\\n",
       "0  AUSTIN       78741.0  2015-01-20 10:41:48  Animal Services Office   \n",
       "1  AUSTIN       78757.0  2016-05-22 10:00:49  Animal Services Office   \n",
       "2  AUSTIN       78744.0  2014-01-06 18:04:00  Animal Services Office   \n",
       "4  AUSTIN       78723.0  2014-07-28 17:33:00  Animal Services Office   \n",
       "5  AUSTIN       78702.0  2016-06-20 16:44:00  Animal Services Office   \n",
       "\n",
       "    complaint_description complaint_type  \n",
       "0               Loose Dog        ACLONAG  \n",
       "1               Loose Dog        ACLONAG  \n",
       "2  Loose Animal (not dog)       ACLOANIM  \n",
       "4    Animal - Proper Care       ACPROPER  \n",
       "5    Animal - Proper Care       ACPROPER  "
      ]
     },
     "execution_count": 14,
     "metadata": {},
     "output_type": "execute_result"
    }
   ],
   "source": [
    "animal_services = austin311_df[austin311_df['owning_department'].str.contains('Animal Services Office')]\n",
    "animal_services.head()"
   ]
  },
  {
   "cell_type": "code",
   "execution_count": 15,
   "metadata": {},
   "outputs": [
    {
     "data": {
      "text/plain": [
       "ACLONAG     27958\n",
       "ACINFORM    18634\n",
       "COAACINJ    13808\n",
       "ACPROPER     5170\n",
       "WILDEXPO     4767\n",
       "ACBITE2      4316\n",
       "COAFAR       3505\n",
       "ACFOUND      2897\n",
       "ACLOANIM     1761\n",
       "COAACDD      1754\n",
       "COAACBAT     1000\n",
       "ACVEHICL      790\n",
       "ACCOYTE       771\n",
       "ACTRAP        396\n",
       "HHSANRSS       79\n",
       "COAACDA        70\n",
       "ACDEADBI        1\n",
       "COYOCOMP        1\n",
       "Name: complaint_type, dtype: int64"
      ]
     },
     "execution_count": 15,
     "metadata": {},
     "output_type": "execute_result"
    }
   ],
   "source": [
    "animal_services['complaint_type'].value_counts()"
   ]
  },
  {
   "cell_type": "code",
   "execution_count": 16,
   "metadata": {},
   "outputs": [
    {
     "data": {
      "text/plain": [
       "Loose Dog                              27958\n",
       "Animal Control - Assistance Request    18634\n",
       "Injured / Sick Animal                  13808\n",
       "Animal - Proper Care                    5170\n",
       "Wildlife Exposure                       4767\n",
       "Animal Bite                             4316\n",
       "Found Animal Report - Keep              3505\n",
       "Found Animal - Pick Up                  2897\n",
       "Dangerous/Vicious Dog Investigation     1754\n",
       "Loose Animal Not Dog                    1415\n",
       "Bat Complaint                           1000\n",
       "Animal In Vehicle                        790\n",
       "Coyote Complaints                        768\n",
       "Animal Trapped in Storm Drain            396\n",
       "Loose Animal (not dog)                   346\n",
       "Animal Roadside Sales                     79\n",
       "Dangerous Animal - Except Dogs            70\n",
       "zCoyote Complaints                         3\n",
       "zz - Coyote Compliants                     1\n",
       "Dead Bird                                  1\n",
       "Name: complaint_description, dtype: int64"
      ]
     },
     "execution_count": 16,
     "metadata": {},
     "output_type": "execute_result"
    }
   ],
   "source": [
    "animal_services['complaint_description'].value_counts()"
   ]
  },
  {
   "cell_type": "code",
   "execution_count": 32,
   "metadata": {},
   "outputs": [
    {
     "data": {
      "image/png": "[encoded data removed]",
      "text/plain": [
       "<matplotlib.figure.Figure at 0x1af63c9e7b8>"
      ]
     },
     "metadata": {},
     "output_type": "display_data"
    }
   ],
   "source": [
    "pd.value_counts(animal_services['complaint_description']).plot.bar()\n",
    "plt.show()"
   ]
  },
  {
   "cell_type": "code",
   "execution_count": 44,
   "metadata": {},
   "outputs": [
    {
     "data": {
      "text/plain": [
       "78744.0    7119\n",
       "78745.0    6478\n",
       "78741.0    4781\n",
       "78753.0    4717\n",
       "78758.0    4687\n",
       "78704.0    4469\n",
       "78702.0    4124\n",
       "78723.0    3859\n",
       "78748.0    3791\n",
       "78724.0    3181\n",
       "78721.0    2902\n",
       "78754.0    2287\n",
       "78749.0    2185\n",
       "78759.0    2123\n",
       "78752.0    2015\n",
       "78757.0    1793\n",
       "78727.0    1655\n",
       "78703.0    1649\n",
       "78617.0    1635\n",
       "78747.0    1629\n",
       "78701.0    1549\n",
       "78731.0    1542\n",
       "78750.0    1520\n",
       "78746.0    1443\n",
       "78751.0    1204\n",
       "78729.0    1130\n",
       "78735.0    1003\n",
       "78705.0     959\n",
       "78728.0     953\n",
       "78756.0     942\n",
       "78660.0     916\n",
       "78725.0     793\n",
       "78734.0     758\n",
       "78722.0     737\n",
       "78739.0     679\n",
       "78717.0     649\n",
       "78726.0     585\n",
       "78732.0     513\n",
       "78736.0     502\n",
       "78733.0     408\n",
       "78730.0     312\n",
       "78719.0     302\n",
       "78742.0     232\n",
       "78653.0     221\n",
       "78652.0     207\n",
       "78737.0     171\n",
       "78738.0     160\n",
       "78712.0      75\n",
       "78613.0      75\n",
       "78641.0      27\n",
       "78610.0      27\n",
       "78681.0       2\n",
       "78669.0       1\n",
       "78621.0       1\n",
       "78620.0       1\n",
       "Name: incident_zip, dtype: int64"
      ]
     },
     "execution_count": 44,
     "metadata": {},
     "output_type": "execute_result"
    }
   ],
   "source": [
    "animal_services['incident_zip'].value_counts()"
   ]
  },
  {
   "cell_type": "code",
   "execution_count": 37,
   "metadata": {},
   "outputs": [
    {
     "data": {
      "image/png": "[encoded data removed]",
      "text/plain": [
       "<matplotlib.figure.Figure at 0x1af6e52aac8>"
      ]
     },
     "metadata": {},
     "output_type": "display_data"
    },
    {
     "data": {
      "text/plain": [
       "<matplotlib.figure.Figure at 0x1af6af44978>"
      ]
     },
     "metadata": {},
     "output_type": "display_data"
    }
   ],
   "source": [
    "pd.value_counts(animal_services['incident_zip']).plot.bar()\n",
    "plt.show()"
   ]
  },
  {
   "cell_type": "code",
   "execution_count": 17,
   "metadata": {},
   "outputs": [
    {
     "data": {
      "text/html": [
       "<div>\n",
       "<style>\n",
       "    .dataframe thead tr:only-child th {\n",
       "        text-align: right;\n",
       "    }\n",
       "\n",
       "    .dataframe thead th {\n",
       "        text-align: left;\n",
       "    }\n",
       "\n",
       "    .dataframe tbody tr th {\n",
       "        vertical-align: top;\n",
       "    }\n",
       "</style>\n",
       "<table border=\"1\" class=\"dataframe\">\n",
       "  <thead>\n",
       "    <tr style=\"text-align: right;\">\n",
       "      <th></th>\n",
       "      <th>city</th>\n",
       "      <th>incident_zip</th>\n",
       "      <th>created_date</th>\n",
       "      <th>owning_department</th>\n",
       "      <th>complaint_description</th>\n",
       "      <th>complaint_type</th>\n",
       "    </tr>\n",
       "  </thead>\n",
       "  <tbody>\n",
       "    <tr>\n",
       "      <th>3</th>\n",
       "      <td>AUSTIN</td>\n",
       "      <td>78727.0</td>\n",
       "      <td>2014-11-15 15:43:41</td>\n",
       "      <td>Austin Code Department</td>\n",
       "      <td>Austin Code - Request Code Officer</td>\n",
       "      <td>CODECOMP</td>\n",
       "    </tr>\n",
       "    <tr>\n",
       "      <th>6</th>\n",
       "      <td>AUSTIN</td>\n",
       "      <td>78744.0</td>\n",
       "      <td>2015-08-25 11:03:04</td>\n",
       "      <td>Austin Code Department</td>\n",
       "      <td>Austin Code - Request Code Officer</td>\n",
       "      <td>CODECOMP</td>\n",
       "    </tr>\n",
       "    <tr>\n",
       "      <th>9</th>\n",
       "      <td>AUSTIN</td>\n",
       "      <td>78759.0</td>\n",
       "      <td>2017-08-01 12:55:03</td>\n",
       "      <td>Austin Code Department</td>\n",
       "      <td>Austin Code - Request Code Officer</td>\n",
       "      <td>CODECOMP</td>\n",
       "    </tr>\n",
       "    <tr>\n",
       "      <th>13</th>\n",
       "      <td>AUSTIN</td>\n",
       "      <td>78701.0</td>\n",
       "      <td>2016-08-17 11:46:27</td>\n",
       "      <td>Austin Code Department</td>\n",
       "      <td>Austin Code - Request Code Officer</td>\n",
       "      <td>CODECOMP</td>\n",
       "    </tr>\n",
       "    <tr>\n",
       "      <th>18</th>\n",
       "      <td>AUSTIN</td>\n",
       "      <td>78705.0</td>\n",
       "      <td>2016-09-15 13:52:56</td>\n",
       "      <td>Austin Code Department</td>\n",
       "      <td>Austin Code - Request Code Officer</td>\n",
       "      <td>CODECOMP</td>\n",
       "    </tr>\n",
       "  </tbody>\n",
       "</table>\n",
       "</div>"
      ],
      "text/plain": [
       "      city  incident_zip         created_date       owning_department  \\\n",
       "3   AUSTIN       78727.0  2014-11-15 15:43:41  Austin Code Department   \n",
       "6   AUSTIN       78744.0  2015-08-25 11:03:04  Austin Code Department   \n",
       "9   AUSTIN       78759.0  2017-08-01 12:55:03  Austin Code Department   \n",
       "13  AUSTIN       78701.0  2016-08-17 11:46:27  Austin Code Department   \n",
       "18  AUSTIN       78705.0  2016-09-15 13:52:56  Austin Code Department   \n",
       "\n",
       "                 complaint_description complaint_type  \n",
       "3   Austin Code - Request Code Officer       CODECOMP  \n",
       "6   Austin Code - Request Code Officer       CODECOMP  \n",
       "9   Austin Code - Request Code Officer       CODECOMP  \n",
       "13  Austin Code - Request Code Officer       CODECOMP  \n",
       "18  Austin Code - Request Code Officer       CODECOMP  "
      ]
     },
     "execution_count": 17,
     "metadata": {},
     "output_type": "execute_result"
    }
   ],
   "source": [
    "code_department = austin311_df[austin311_df['owning_department'].str.contains('Austin Code Department')]\n",
    "code_department.head()"
   ]
  },
  {
   "cell_type": "code",
   "execution_count": null,
   "metadata": {
    "collapsed": true
   },
   "outputs": [],
   "source": []
  },
  {
   "cell_type": "code",
   "execution_count": 18,
   "metadata": {},
   "outputs": [
    {
     "data": {
      "text/plain": [
       "CODECOMP    73812\n",
       "CCSIGBIL     2422\n",
       "SHTERECS     1989\n",
       "COCSTRSA      809\n",
       "RESTBREA      205\n",
       "COCOWOAP        2\n",
       "Name: complaint_type, dtype: int64"
      ]
     },
     "execution_count": 18,
     "metadata": {},
     "output_type": "execute_result"
    }
   ],
   "source": [
    "code_department['complaint_type'].value_counts()"
   ]
  },
  {
   "cell_type": "code",
   "execution_count": 19,
   "metadata": {},
   "outputs": [
    {
     "data": {
      "text/plain": [
       "Austin Code - Request Code Officer                   73812\n",
       "Austin Code - Signs/Billboards                        2421\n",
       "Austin Code - Short Term Rental Complaint SR          1711\n",
       "Austin Code - Short Term Rental (STR) Appointment      809\n",
       "Short Term Rental Complaint SR                         278\n",
       "Austin Code - Construction Ordinance SR                168\n",
       "Austin Code - Construction Rest Break Complaint         37\n",
       "Austin Code - Woodridge Apt                              2\n",
       "Code Compliance - Signs/Billboards                       1\n",
       "Name: complaint_description, dtype: int64"
      ]
     },
     "execution_count": 19,
     "metadata": {},
     "output_type": "execute_result"
    }
   ],
   "source": [
    "code_department['complaint_description'].value_counts()"
   ]
  },
  {
   "cell_type": "code",
   "execution_count": 38,
   "metadata": {},
   "outputs": [
    {
     "data": {
      "image/png": "[encoded data removed]",
      "text/plain": [
       "<matplotlib.figure.Figure at 0x1af6ef5abe0>"
      ]
     },
     "metadata": {},
     "output_type": "display_data"
    }
   ],
   "source": [
    "pd.value_counts(code_department['complaint_description']).plot.bar()\n",
    "plt.show()"
   ]
  },
  {
   "cell_type": "code",
   "execution_count": 43,
   "metadata": {},
   "outputs": [
    {
     "data": {
      "text/plain": [
       "78745.0    6878\n",
       "78723.0    5981\n",
       "78758.0    5658\n",
       "78753.0    5305\n",
       "78702.0    5224\n",
       "78704.0    5160\n",
       "78741.0    4858\n",
       "78744.0    4177\n",
       "78757.0    2832\n",
       "78748.0    2690\n",
       "78724.0    2411\n",
       "78721.0    2354\n",
       "78759.0    2103\n",
       "78703.0    2096\n",
       "78751.0    2005\n",
       "78752.0    1903\n",
       "78731.0    1895\n",
       "78705.0    1854\n",
       "78749.0    1762\n",
       "78727.0    1692\n",
       "78701.0    1325\n",
       "78750.0    1291\n",
       "78756.0    1019\n",
       "78722.0     841\n",
       "78729.0     759\n",
       "78754.0     759\n",
       "78746.0     617\n",
       "78747.0     560\n",
       "78735.0     454\n",
       "78617.0     380\n",
       "78736.0     371\n",
       "78732.0     323\n",
       "78730.0     312\n",
       "78725.0     257\n",
       "78726.0     221\n",
       "78717.0     192\n",
       "78742.0     182\n",
       "78739.0     175\n",
       "78734.0      80\n",
       "78660.0      68\n",
       "78733.0      47\n",
       "78653.0      46\n",
       "78719.0      45\n",
       "78728.0      36\n",
       "78613.0      19\n",
       "78652.0      13\n",
       "78737.0       6\n",
       "78712.0       2\n",
       "78610.0       1\n",
       "Name: incident_zip, dtype: int64"
      ]
     },
     "execution_count": 43,
     "metadata": {},
     "output_type": "execute_result"
    }
   ],
   "source": [
    "code_department['incident_zip'].value_counts()"
   ]
  },
  {
   "cell_type": "code",
   "execution_count": 39,
   "metadata": {},
   "outputs": [
    {
     "data": {
      "image/png": "[encoded data removed]",
      "text/plain": [
       "<matplotlib.figure.Figure at 0x1af64558a20>"
      ]
     },
     "metadata": {},
     "output_type": "display_data"
    }
   ],
   "source": [
    "pd.value_counts(code_department['incident_zip']).plot.bar()\n",
    "plt.show()"
   ]
  },
  {
   "cell_type": "code",
   "execution_count": 20,
   "metadata": {},
   "outputs": [
    {
     "data": {
      "text/html": [
       "<div>\n",
       "<style>\n",
       "    .dataframe thead tr:only-child th {\n",
       "        text-align: right;\n",
       "    }\n",
       "\n",
       "    .dataframe thead th {\n",
       "        text-align: left;\n",
       "    }\n",
       "\n",
       "    .dataframe tbody tr th {\n",
       "        vertical-align: top;\n",
       "    }\n",
       "</style>\n",
       "<table border=\"1\" class=\"dataframe\">\n",
       "  <thead>\n",
       "    <tr style=\"text-align: right;\">\n",
       "      <th></th>\n",
       "      <th>city</th>\n",
       "      <th>incident_zip</th>\n",
       "      <th>created_date</th>\n",
       "      <th>owning_department</th>\n",
       "      <th>complaint_description</th>\n",
       "      <th>complaint_type</th>\n",
       "    </tr>\n",
       "  </thead>\n",
       "  <tbody>\n",
       "    <tr>\n",
       "      <th>14</th>\n",
       "      <td>AUSTIN</td>\n",
       "      <td>78702.0</td>\n",
       "      <td>2014-05-15 10:13:41</td>\n",
       "      <td>Transportation</td>\n",
       "      <td>Sign - Traffic Sign Emergency</td>\n",
       "      <td>SIGNTRAF</td>\n",
       "    </tr>\n",
       "    <tr>\n",
       "      <th>22</th>\n",
       "      <td>AUSTIN</td>\n",
       "      <td>78742.0</td>\n",
       "      <td>2014-12-26 10:43:49</td>\n",
       "      <td>Transportation</td>\n",
       "      <td>Traffic Signal - Maintenance</td>\n",
       "      <td>TRASIGMA</td>\n",
       "    </tr>\n",
       "    <tr>\n",
       "      <th>30</th>\n",
       "      <td>AUSTIN</td>\n",
       "      <td>78701.0</td>\n",
       "      <td>2016-03-15 18:08:07</td>\n",
       "      <td>Transportation</td>\n",
       "      <td>Traffic Signal - Maintenance</td>\n",
       "      <td>TRASIGMA</td>\n",
       "    </tr>\n",
       "    <tr>\n",
       "      <th>33</th>\n",
       "      <td>AUSTIN</td>\n",
       "      <td>78703.0</td>\n",
       "      <td>2016-07-17 19:04:00</td>\n",
       "      <td>Transportation</td>\n",
       "      <td>Traffic Signal - Maintenance</td>\n",
       "      <td>TRASIGMA</td>\n",
       "    </tr>\n",
       "    <tr>\n",
       "      <th>40</th>\n",
       "      <td>AUSTIN</td>\n",
       "      <td>78751.0</td>\n",
       "      <td>2014-12-10 13:09:40</td>\n",
       "      <td>Transportation</td>\n",
       "      <td>Traffic Signal - Dig Tess Request</td>\n",
       "      <td>TRAFFI10</td>\n",
       "    </tr>\n",
       "  </tbody>\n",
       "</table>\n",
       "</div>"
      ],
      "text/plain": [
       "      city  incident_zip         created_date owning_department  \\\n",
       "14  AUSTIN       78702.0  2014-05-15 10:13:41    Transportation   \n",
       "22  AUSTIN       78742.0  2014-12-26 10:43:49    Transportation   \n",
       "30  AUSTIN       78701.0  2016-03-15 18:08:07    Transportation   \n",
       "33  AUSTIN       78703.0  2016-07-17 19:04:00    Transportation   \n",
       "40  AUSTIN       78751.0  2014-12-10 13:09:40    Transportation   \n",
       "\n",
       "                complaint_description complaint_type  \n",
       "14      Sign - Traffic Sign Emergency       SIGNTRAF  \n",
       "22       Traffic Signal - Maintenance       TRASIGMA  \n",
       "30       Traffic Signal - Maintenance       TRASIGMA  \n",
       "33       Traffic Signal - Maintenance       TRASIGMA  \n",
       "40  Traffic Signal - Dig Tess Request       TRAFFI10  "
      ]
     },
     "execution_count": 20,
     "metadata": {},
     "output_type": "execute_result"
    }
   ],
   "source": [
    "transportation = austin311_df[austin311_df['owning_department'].str.contains('Transportation')]\n",
    "transportation.head()"
   ]
  },
  {
   "cell_type": "code",
   "execution_count": 21,
   "metadata": {},
   "outputs": [
    {
     "data": {
      "text/plain": [
       "TRASIGMA    27800\n",
       "TRAFFI10     8923\n",
       "SIGNNEWT     4369\n",
       "SIGNTRA1     4285\n",
       "SIGNTRAF     3613\n",
       "PARMACIS     3107\n",
       "CONCERNS     2605\n",
       "OBSINTTR     2334\n",
       "TRASIGNE     2250\n",
       "SIGNSTRE     2141\n",
       "CONSTRUC     1841\n",
       "ROADMARK     1838\n",
       "SIGNPARK     1522\n",
       "TRANSPOR     1426\n",
       "SCHOOLZ2     1297\n",
       "TRAFFICC     1295\n",
       "ROADMAR2     1097\n",
       "PWBICYCL     1008\n",
       "EMROCLRE      917\n",
       "PWSIDEWL      791\n",
       "PARKINGT      404\n",
       "SPEEDLIM      324\n",
       "SIGNSCHO      279\n",
       "PARKINGV      232\n",
       "SCHOOLIS      172\n",
       "CONSTRU1      126\n",
       "VENDORPE       58\n",
       "PARKINGP       42\n",
       "REPAPEEN       16\n",
       "VALETPER       15\n",
       "TRAFFICE        9\n",
       "FILMINGP        4\n",
       "UTILITYC        4\n",
       "NEWSPAPE        3\n",
       "Name: complaint_type, dtype: int64"
      ]
     },
     "execution_count": 21,
     "metadata": {},
     "output_type": "execute_result"
    }
   ],
   "source": [
    "transportation['complaint_type'].value_counts()"
   ]
  },
  {
   "cell_type": "code",
   "execution_count": 22,
   "metadata": {},
   "outputs": [
    {
     "data": {
      "text/plain": [
       "Traffic Signal - Maintenance                27800\n",
       "Traffic Signal - Dig Tess Request            8923\n",
       "Sign - New                                   4369\n",
       "Sign - Traffic Sign Maintenance              4285\n",
       "Sign - Traffic Sign Emergency                3613\n",
       "Parking Machine Issue                        3107\n",
       "Concerns in the ROW                          2605\n",
       "View Obstruction at Intersection             2334\n",
       "Traffic Signal - New/Change                  2250\n",
       "Sign - Street Name                           2141\n",
       "Road Markings/Striping - Maintenance         1838\n",
       "Sign - Parking Sign Maintenance              1522\n",
       "Traffic Engineering - General                1426\n",
       "School Zone Flasher - Timing/Maintenance     1297\n",
       "Traffic Calming                              1295\n",
       "Road Markings/Striping - New                 1097\n",
       "Bicycle Issues                               1008\n",
       "Construction Items- ROW                       953\n",
       "Lane/Road Closure Notification                916\n",
       "Construction items in ROW                     888\n",
       "Sidewalk/Curb Ramp/Route - NEW                791\n",
       "Parking Ticket Complaint                      404\n",
       "Speed Limit - Changes/Signs                   324\n",
       "Sign - School Zone Sign Maintenance           279\n",
       "Parking Violation Enforcement                 232\n",
       "School Issues - Crossing Guards               172\n",
       "Construction/Permitting- ROW                  126\n",
       "Vendor Permit - ROW                            58\n",
       "Parking Permit- ROW                            42\n",
       "Residential Parking Permit Enforcement         16\n",
       "Valet Permit - ROW                             15\n",
       "Traffic Engineering - Jurisdiction Issue        9\n",
       "Utility Coordination - ROW                      4\n",
       "Filming Permit - ROW                            4\n",
       "Newspaper Rack- ROW                             3\n",
       "Emergency Road Closure Report                   1\n",
       "Name: complaint_description, dtype: int64"
      ]
     },
     "execution_count": 22,
     "metadata": {},
     "output_type": "execute_result"
    }
   ],
   "source": [
    "transportation['complaint_description'].value_counts()"
   ]
  },
  {
   "cell_type": "code",
   "execution_count": 40,
   "metadata": {},
   "outputs": [
    {
     "data": {
      "image/png": "[encoded data removed]",
      "text/plain": [
       "<matplotlib.figure.Figure at 0x1af639cd4e0>"
      ]
     },
     "metadata": {},
     "output_type": "display_data"
    }
   ],
   "source": [
    "pd.value_counts(transportation['complaint_description']).plot.bar()\n",
    "plt.show()"
   ]
  },
  {
   "cell_type": "code",
   "execution_count": 42,
   "metadata": {},
   "outputs": [
    {
     "data": {
      "text/plain": [
       "78701.0    7265\n",
       "78704.0    5894\n",
       "78745.0    4193\n",
       "78702.0    3734\n",
       "78758.0    3534\n",
       "78703.0    3472\n",
       "78723.0    3112\n",
       "78759.0    3024\n",
       "78749.0    2964\n",
       "78731.0    2884\n",
       "78757.0    2790\n",
       "78705.0    2762\n",
       "78753.0    2752\n",
       "78741.0    2687\n",
       "78744.0    2687\n",
       "78751.0    2416\n",
       "78748.0    1848\n",
       "78746.0    1546\n",
       "78752.0    1374\n",
       "78756.0    1337\n",
       "78729.0    1276\n",
       "78727.0    1237\n",
       "78750.0    1168\n",
       "78722.0    1125\n",
       "78721.0    1107\n",
       "78724.0    1078\n",
       "78735.0     959\n",
       "78717.0     763\n",
       "78754.0     749\n",
       "78730.0     549\n",
       "78739.0     521\n",
       "78726.0     514\n",
       "78617.0     354\n",
       "78747.0     333\n",
       "78660.0     290\n",
       "78712.0     257\n",
       "78728.0     254\n",
       "78725.0     209\n",
       "78736.0     202\n",
       "78742.0     193\n",
       "78719.0     179\n",
       "78613.0     159\n",
       "78732.0     154\n",
       "78653.0     128\n",
       "78652.0      41\n",
       "78737.0      20\n",
       "78733.0      19\n",
       "78734.0      16\n",
       "78738.0       9\n",
       "78681.0       5\n",
       "78610.0       4\n",
       "Name: incident_zip, dtype: int64"
      ]
     },
     "execution_count": 42,
     "metadata": {},
     "output_type": "execute_result"
    }
   ],
   "source": [
    "transportation['incident_zip'].value_counts()"
   ]
  },
  {
   "cell_type": "code",
   "execution_count": 41,
   "metadata": {},
   "outputs": [
    {
     "data": {
      "image/png": "[encoded data removed]",
      "text/plain": [
       "<matplotlib.figure.Figure at 0x1af6507f208>"
      ]
     },
     "metadata": {},
     "output_type": "display_data"
    }
   ],
   "source": [
    "pd.value_counts(transportation['incident_zip']).plot.bar()\n",
    "plt.show()"
   ]
  },
  {
   "cell_type": "code",
   "execution_count": 23,
   "metadata": {},
   "outputs": [
    {
     "data": {
      "text/html": [
       "<div>\n",
       "<style>\n",
       "    .dataframe thead tr:only-child th {\n",
       "        text-align: right;\n",
       "    }\n",
       "\n",
       "    .dataframe thead th {\n",
       "        text-align: left;\n",
       "    }\n",
       "\n",
       "    .dataframe tbody tr th {\n",
       "        vertical-align: top;\n",
       "    }\n",
       "</style>\n",
       "<table border=\"1\" class=\"dataframe\">\n",
       "  <thead>\n",
       "    <tr style=\"text-align: right;\">\n",
       "      <th></th>\n",
       "      <th>city</th>\n",
       "      <th>incident_zip</th>\n",
       "      <th>created_date</th>\n",
       "      <th>owning_department</th>\n",
       "      <th>complaint_description</th>\n",
       "      <th>complaint_type</th>\n",
       "    </tr>\n",
       "  </thead>\n",
       "  <tbody>\n",
       "    <tr>\n",
       "      <th>47</th>\n",
       "      <td>AUSTIN</td>\n",
       "      <td>78721.0</td>\n",
       "      <td>2016-03-13 13:26:48</td>\n",
       "      <td>Austin Resource Recovery</td>\n",
       "      <td>ARR Missed Recycling</td>\n",
       "      <td>SWSRECYC</td>\n",
       "    </tr>\n",
       "    <tr>\n",
       "      <th>62</th>\n",
       "      <td>AUSTIN</td>\n",
       "      <td>78731.0</td>\n",
       "      <td>2017-06-20 09:13:47</td>\n",
       "      <td>Austin Resource Recovery</td>\n",
       "      <td>ARR Dead Animal Collection</td>\n",
       "      <td>SWSDEADA</td>\n",
       "    </tr>\n",
       "    <tr>\n",
       "      <th>64</th>\n",
       "      <td>AUSTIN</td>\n",
       "      <td>78758.0</td>\n",
       "      <td>2017-06-15 18:32:01</td>\n",
       "      <td>Austin Resource Recovery</td>\n",
       "      <td>ARR Street Sweeping</td>\n",
       "      <td>SWSSTSWE</td>\n",
       "    </tr>\n",
       "    <tr>\n",
       "      <th>68</th>\n",
       "      <td>AUSTIN</td>\n",
       "      <td>78757.0</td>\n",
       "      <td>2017-06-29 22:23:20</td>\n",
       "      <td>Austin Resource Recovery</td>\n",
       "      <td>ARR Missed Recycling</td>\n",
       "      <td>SWSRECYC</td>\n",
       "    </tr>\n",
       "    <tr>\n",
       "      <th>83</th>\n",
       "      <td>AUSTIN</td>\n",
       "      <td>78727.0</td>\n",
       "      <td>2015-06-06 13:41:42</td>\n",
       "      <td>Austin Resource Recovery</td>\n",
       "      <td>ARR Dead Animal Collection</td>\n",
       "      <td>SWSDEADA</td>\n",
       "    </tr>\n",
       "  </tbody>\n",
       "</table>\n",
       "</div>"
      ],
      "text/plain": [
       "      city  incident_zip         created_date         owning_department  \\\n",
       "47  AUSTIN       78721.0  2016-03-13 13:26:48  Austin Resource Recovery   \n",
       "62  AUSTIN       78731.0  2017-06-20 09:13:47  Austin Resource Recovery   \n",
       "64  AUSTIN       78758.0  2017-06-15 18:32:01  Austin Resource Recovery   \n",
       "68  AUSTIN       78757.0  2017-06-29 22:23:20  Austin Resource Recovery   \n",
       "83  AUSTIN       78727.0  2015-06-06 13:41:42  Austin Resource Recovery   \n",
       "\n",
       "         complaint_description complaint_type  \n",
       "47        ARR Missed Recycling       SWSRECYC  \n",
       "62  ARR Dead Animal Collection       SWSDEADA  \n",
       "64         ARR Street Sweeping       SWSSTSWE  \n",
       "68        ARR Missed Recycling       SWSRECYC  \n",
       "83  ARR Dead Animal Collection       SWSDEADA  "
      ]
     },
     "execution_count": 23,
     "metadata": {},
     "output_type": "execute_result"
    }
   ],
   "source": [
    "resource_recovery = austin311_df[austin311_df['owning_department'].str.contains('Austin Resource Recovery')]\n",
    "resource_recovery.head()"
   ]
  },
  {
   "cell_type": "code",
   "execution_count": 24,
   "metadata": {},
   "outputs": [
    {
     "data": {
      "text/plain": [
       "SWSRECYC    21002\n",
       "SWSDEADA    20110\n",
       "SWSYARDT    13373\n",
       "ARRBRUBU     5300\n",
       "SWSSTSWE     2498\n",
       "CODECOMP     1720\n",
       "ARUNRECB      107\n",
       "CCSIGBIL       97\n",
       "COCSTRSA       92\n",
       "ORSICABA       64\n",
       "SWSDUMPS       41\n",
       "RESTBREA        1\n",
       "Name: complaint_type, dtype: int64"
      ]
     },
     "execution_count": 24,
     "metadata": {},
     "output_type": "execute_result"
    }
   ],
   "source": [
    "resource_recovery['complaint_type'].value_counts()"
   ]
  },
  {
   "cell_type": "code",
   "execution_count": 25,
   "metadata": {},
   "outputs": [
    {
     "data": {
      "text/plain": [
       "ARR Missed Recycling                                 21002\n",
       "ARR Dead Animal Collection                           20110\n",
       "ARR Missed Yard Trimmings /Organics                  13190\n",
       "ARR Brush and Bulk                                    5300\n",
       "ARR Street Sweeping                                   2498\n",
       "Austin Code - Request Code Officer                    1720\n",
       "ARR Missed Yard Trimmings/Compost                      183\n",
       "Ordinance Universal Recycling                          107\n",
       "Austin Code - Signs/Billboards                          97\n",
       "Austin Code - Short Term Rental (STR) Appointment       92\n",
       "Ordinance Single-Use Carryout Bags                      64\n",
       "ARR Dumpster                                            41\n",
       "Austin Code - Construction Ordinance SR                  1\n",
       "Name: complaint_description, dtype: int64"
      ]
     },
     "execution_count": 25,
     "metadata": {},
     "output_type": "execute_result"
    }
   ],
   "source": [
    "resource_recovery['complaint_description'].value_counts()"
   ]
  },
  {
   "cell_type": "code",
   "execution_count": 45,
   "metadata": {},
   "outputs": [
    {
     "data": {
      "image/png": "[encoded data removed]",
      "text/plain": [
       "<matplotlib.figure.Figure at 0x1af6b3ee240>"
      ]
     },
     "metadata": {},
     "output_type": "display_data"
    }
   ],
   "source": [
    "pd.value_counts(resource_recovery['complaint_description']).plot.bar()\n",
    "plt.show()"
   ]
  },
  {
   "cell_type": "code",
   "execution_count": 49,
   "metadata": {},
   "outputs": [
    {
     "data": {
      "text/plain": [
       "78745.0    5388\n",
       "78704.0    4066\n",
       "78702.0    4029\n",
       "78759.0    3733\n",
       "78748.0    3495\n",
       "78731.0    3328\n",
       "78744.0    3094\n",
       "78723.0    2899\n",
       "78758.0    2705\n",
       "78749.0    2605\n",
       "78703.0    2547\n",
       "78753.0    2406\n",
       "78757.0    2214\n",
       "78741.0    1833\n",
       "78751.0    1734\n",
       "78727.0    1515\n",
       "78750.0    1489\n",
       "78739.0    1475\n",
       "78721.0    1430\n",
       "78705.0    1268\n",
       "78724.0    1196\n",
       "78752.0    1088\n",
       "78746.0    1026\n",
       "78747.0     906\n",
       "78717.0     842\n",
       "78729.0     833\n",
       "78722.0     828\n",
       "78756.0     771\n",
       "78735.0     747\n",
       "78754.0     726\n",
       "78701.0     523\n",
       "78726.0     463\n",
       "78736.0     387\n",
       "78617.0     284\n",
       "78725.0     143\n",
       "78730.0      85\n",
       "78660.0      78\n",
       "78742.0      62\n",
       "78653.0      50\n",
       "78652.0      23\n",
       "78613.0      22\n",
       "78728.0      19\n",
       "78737.0      16\n",
       "78719.0      14\n",
       "78712.0       6\n",
       "78733.0       5\n",
       "78732.0       4\n",
       "78734.0       3\n",
       "78738.0       2\n",
       "Name: incident_zip, dtype: int64"
      ]
     },
     "execution_count": 49,
     "metadata": {},
     "output_type": "execute_result"
    }
   ],
   "source": [
    "resource_recovery['incident_zip'].value_counts()"
   ]
  },
  {
   "cell_type": "code",
   "execution_count": 46,
   "metadata": {},
   "outputs": [
    {
     "data": {
      "image/png": "[encoded data removed]",
      "text/plain": [
       "<matplotlib.figure.Figure at 0x1af6dc562b0>"
      ]
     },
     "metadata": {},
     "output_type": "display_data"
    }
   ],
   "source": [
    "pd.value_counts(resource_recovery['incident_zip']).plot.bar()\n",
    "plt.show()"
   ]
  },
  {
   "cell_type": "code",
   "execution_count": 26,
   "metadata": {},
   "outputs": [
    {
     "data": {
      "text/html": [
       "<div>\n",
       "<style>\n",
       "    .dataframe thead tr:only-child th {\n",
       "        text-align: right;\n",
       "    }\n",
       "\n",
       "    .dataframe thead th {\n",
       "        text-align: left;\n",
       "    }\n",
       "\n",
       "    .dataframe tbody tr th {\n",
       "        vertical-align: top;\n",
       "    }\n",
       "</style>\n",
       "<table border=\"1\" class=\"dataframe\">\n",
       "  <thead>\n",
       "    <tr style=\"text-align: right;\">\n",
       "      <th></th>\n",
       "      <th>city</th>\n",
       "      <th>incident_zip</th>\n",
       "      <th>created_date</th>\n",
       "      <th>owning_department</th>\n",
       "      <th>complaint_description</th>\n",
       "      <th>complaint_type</th>\n",
       "    </tr>\n",
       "  </thead>\n",
       "  <tbody>\n",
       "    <tr>\n",
       "      <th>12</th>\n",
       "      <td>AUSTIN</td>\n",
       "      <td>78702.0</td>\n",
       "      <td>2016-03-09 14:46:45</td>\n",
       "      <td>Public Works</td>\n",
       "      <td>Pavement Failure</td>\n",
       "      <td>SBPAVEFA</td>\n",
       "    </tr>\n",
       "    <tr>\n",
       "      <th>32</th>\n",
       "      <td>AUSTIN</td>\n",
       "      <td>78717.0</td>\n",
       "      <td>2017-01-20 15:41:40</td>\n",
       "      <td>Public Works</td>\n",
       "      <td>Debris in Street</td>\n",
       "      <td>SBDEBROW</td>\n",
       "    </tr>\n",
       "    <tr>\n",
       "      <th>41</th>\n",
       "      <td>AUSTIN</td>\n",
       "      <td>78704.0</td>\n",
       "      <td>2015-06-03 14:08:48</td>\n",
       "      <td>Public Works</td>\n",
       "      <td>Obstruction in ROW</td>\n",
       "      <td>OBSTMIDB</td>\n",
       "    </tr>\n",
       "    <tr>\n",
       "      <th>42</th>\n",
       "      <td>AUSTIN</td>\n",
       "      <td>78705.0</td>\n",
       "      <td>2016-10-05 11:53:42</td>\n",
       "      <td>Public Works</td>\n",
       "      <td>Curb/Gutter Repair</td>\n",
       "      <td>SBCURBGU</td>\n",
       "    </tr>\n",
       "    <tr>\n",
       "      <th>48</th>\n",
       "      <td>AUSTIN</td>\n",
       "      <td>78753.0</td>\n",
       "      <td>2014-02-06 15:53:16</td>\n",
       "      <td>Public Works</td>\n",
       "      <td>Pothole Repair</td>\n",
       "      <td>SBPOTREP</td>\n",
       "    </tr>\n",
       "  </tbody>\n",
       "</table>\n",
       "</div>"
      ],
      "text/plain": [
       "      city  incident_zip         created_date owning_department  \\\n",
       "12  AUSTIN       78702.0  2016-03-09 14:46:45      Public Works   \n",
       "32  AUSTIN       78717.0  2017-01-20 15:41:40      Public Works   \n",
       "41  AUSTIN       78704.0  2015-06-03 14:08:48      Public Works   \n",
       "42  AUSTIN       78705.0  2016-10-05 11:53:42      Public Works   \n",
       "48  AUSTIN       78753.0  2014-02-06 15:53:16      Public Works   \n",
       "\n",
       "   complaint_description complaint_type  \n",
       "12      Pavement Failure       SBPAVEFA  \n",
       "32      Debris in Street       SBDEBROW  \n",
       "41    Obstruction in ROW       OBSTMIDB  \n",
       "42    Curb/Gutter Repair       SBCURBGU  \n",
       "48        Pothole Repair       SBPOTREP  "
      ]
     },
     "execution_count": 26,
     "metadata": {},
     "output_type": "execute_result"
    }
   ],
   "source": [
    "public_works = austin311_df[austin311_df['owning_department'].str.contains('Public Works')]\n",
    "public_works.head()"
   ]
  },
  {
   "cell_type": "code",
   "execution_count": 27,
   "metadata": {},
   "outputs": [
    {
     "data": {
      "text/plain": [
       "SBPOTREP    9296\n",
       "SBDEBROW    6138\n",
       "OBSTMIDB    5514\n",
       "PRTRROWM    5010\n",
       "PRTRROWE    4340\n",
       "SBSIDERE    3734\n",
       "SBPAVEFA    3283\n",
       "MOWINGME    1707\n",
       "SBALLEY     1575\n",
       "SBCURBGU     748\n",
       "SBSTRES      717\n",
       "SCHOOLZ1     375\n",
       "SBGRDREP     316\n",
       "SBBARREQ     216\n",
       "PWSIDEWL     189\n",
       "SBBRIDRE     137\n",
       "SBROADSP     116\n",
       "PWBICYCL      97\n",
       "SBRSR         54\n",
       "SBGRDRN       34\n",
       "SCHOOLIS      26\n",
       "SBMOFEN        8\n",
       "Name: complaint_type, dtype: int64"
      ]
     },
     "execution_count": 27,
     "metadata": {},
     "output_type": "execute_result"
    }
   ],
   "source": [
    "public_works['complaint_type'].value_counts()"
   ]
  },
  {
   "cell_type": "code",
   "execution_count": 28,
   "metadata": {},
   "outputs": [
    {
     "data": {
      "text/plain": [
       "Pothole Repair                        9296\n",
       "Debris in Street                      6138\n",
       "Obstruction in ROW                    5514\n",
       "Tree Issue ROW/Maintenance (PW)       4981\n",
       "Tree Issue ROW/Emergency (PW)         4316\n",
       "Sidewalk Repair                       3734\n",
       "Pavement Failure                      3283\n",
       "Mowing Medians                        1707\n",
       "Alley & Unpaved Street Maintenance    1575\n",
       "Curb/Gutter Repair                     748\n",
       "Street Resurfacing Inquiry             717\n",
       "School Zone - New/Review/Changes       375\n",
       "Guardrail Repair                       316\n",
       "Barricade Request                      216\n",
       "Sidewalk/Curb Ramp/Route - NEW         189\n",
       "Bridge Repair                          137\n",
       "Roadway Spillage                       116\n",
       "Bicycle Issues                          97\n",
       "Road Sanding Request                    54\n",
       "Guardrail - New                         34\n",
       "Tree Issue ROW/Maintenance (PARD)       29\n",
       "School Issues - Crossing Guards         26\n",
       "Tree Issue ROW/Emergency (PARD)         24\n",
       "Fence Repair - MOPAC                     8\n",
       "Name: complaint_description, dtype: int64"
      ]
     },
     "execution_count": 28,
     "metadata": {},
     "output_type": "execute_result"
    }
   ],
   "source": [
    "public_works['complaint_description'].value_counts()"
   ]
  },
  {
   "cell_type": "code",
   "execution_count": 47,
   "metadata": {},
   "outputs": [
    {
     "data": {
      "image/png": "[encoded data removed]",
      "text/plain": [
       "<matplotlib.figure.Figure at 0x1af6bb35588>"
      ]
     },
     "metadata": {},
     "output_type": "display_data"
    }
   ],
   "source": [
    "pd.value_counts(public_works['complaint_description']).plot.bar()\n",
    "plt.show()"
   ]
  },
  {
   "cell_type": "code",
   "execution_count": 51,
   "metadata": {},
   "outputs": [
    {
     "data": {
      "text/plain": [
       "78745.0    3643\n",
       "78704.0    3121\n",
       "78702.0    2477\n",
       "78703.0    2472\n",
       "78744.0    2054\n",
       "78705.0    2008\n",
       "78751.0    1912\n",
       "78701.0    1870\n",
       "78758.0    1838\n",
       "78723.0    1793\n",
       "78731.0    1713\n",
       "78757.0    1633\n",
       "78753.0    1585\n",
       "78759.0    1505\n",
       "78741.0    1416\n",
       "78749.0    1366\n",
       "78748.0    1343\n",
       "78756.0    1049\n",
       "78727.0     863\n",
       "78750.0     826\n",
       "78721.0     758\n",
       "78746.0     726\n",
       "78722.0     717\n",
       "78752.0     652\n",
       "78735.0     645\n",
       "78754.0     575\n",
       "78724.0     552\n",
       "78729.0     455\n",
       "78747.0     344\n",
       "78739.0     336\n",
       "78717.0     208\n",
       "78730.0     188\n",
       "78617.0     155\n",
       "78725.0     128\n",
       "78726.0     124\n",
       "78736.0     117\n",
       "78660.0     111\n",
       "78742.0      87\n",
       "78653.0      62\n",
       "78728.0      51\n",
       "78712.0      42\n",
       "78719.0      25\n",
       "78613.0      24\n",
       "78733.0      22\n",
       "78732.0      12\n",
       "78737.0       9\n",
       "78734.0       7\n",
       "78652.0       6\n",
       "78681.0       2\n",
       "78738.0       1\n",
       "78641.0       1\n",
       "78610.0       1\n",
       "Name: incident_zip, dtype: int64"
      ]
     },
     "execution_count": 51,
     "metadata": {},
     "output_type": "execute_result"
    }
   ],
   "source": [
    "public_works['incident_zip'].value_counts()"
   ]
  },
  {
   "cell_type": "code",
   "execution_count": 50,
   "metadata": {},
   "outputs": [
    {
     "data": {
      "image/png": "[encoded data removed]",
      "text/plain": [
       "<matplotlib.figure.Figure at 0x1af5fd7ea20>"
      ]
     },
     "metadata": {},
     "output_type": "display_data"
    }
   ],
   "source": [
    "pd.value_counts(public_works['incident_zip']).plot.bar()\n",
    "plt.show()"
   ]
  },
  {
   "cell_type": "code",
   "execution_count": null,
   "metadata": {
    "collapsed": true
   },
   "outputs": [],
   "source": []
  }
 ],
 "metadata": {
  "kernelspec": {
   "display_name": "Python 3",
   "language": "python",
   "name": "python3"
  },
  "language_info": {
   "codemirror_mode": {
    "name": "ipython",
    "version": 3
   },
   "file_extension": ".py",
   "mimetype": "text/x-python",
   "name": "python",
   "nbconvert_exporter": "python",
   "pygments_lexer": "ipython3",
   "version": "3.6.2"
  }
 },
 "nbformat": 4,
 "nbformat_minor": 2
}
